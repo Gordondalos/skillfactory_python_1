{
 "cells": [
  {
   "cell_type": "markdown",
   "metadata": {},
   "source": [
    "## Leo Tolstiy"
   ]
  },
  {
   "cell_type": "code",
   "execution_count": null,
   "metadata": {},
   "outputs": [],
   "source": [
    "def read_data():\n",
    "    data = open('war_peace_processed.txt', 'rt', encoding=\"utf-8\").read()\n",
    "    return data.split('\\n')\n",
    "\n",
    "\n",
    "data = read_data()\n",
    "target_word = 'князь'\n",
    "\n",
    "def drow_dictt(data):\n",
    "#     res = [n for n in data]\n",
    "    words = {}\n",
    "    for word in data:\n",
    "        value=words.get(word, 0)\n",
    "        words[word]=value+1\n",
    "    return words\n",
    "\n",
    "my_dict = drow_dictt(data)\n",
    "\n",
    "count_target = my_dict.get(target_word, 0)\n"
   ]
  },
  {
   "cell_type": "code",
   "execution_count": null,
   "metadata": {},
   "outputs": [],
   "source": [
    "def drow_dict_chapter(data):\n",
    "    words = {}\n",
    "    index=0\n",
    "    currentIndex='0'\n",
    "    print(data)\n",
    "    for word in data:\n",
    "        if '[new chapter]' == word:\n",
    "            words[index]={}\n",
    "            currentIndex=str(index);\n",
    "            print('words', words)\n",
    "        else:\n",
    "            print(words)\n",
    "#             val = words.get(currentIndex, 0)           \n",
    "#             if val == 0:\n",
    "#                 words[currentIndex]={}    \n",
    "                \n",
    "#              print(words)\n",
    "\n",
    "#             value=words[currentIndex].get(word, 0)\n",
    "#             print(value)\n",
    "#             words[currentIndex][word]=value+1\n",
    "            \n",
    "    return words\n",
    "\n",
    "my_dict2 = drow_dict_chapter(data)\n",
    "print(my_dict2)"
   ]
  },
  {
   "cell_type": "code",
   "execution_count": null,
   "metadata": {},
   "outputs": [],
   "source": []
  }
 ],
 "metadata": {
  "kernelspec": {
   "display_name": "Python 3",
   "language": "python",
   "name": "python3"
  },
  "language_info": {
   "codemirror_mode": {
    "name": "ipython",
    "version": 3
   },
   "file_extension": ".py",
   "mimetype": "text/x-python",
   "name": "python",
   "nbconvert_exporter": "python",
   "pygments_lexer": "ipython3",
   "version": "3.7.0"
  }
 },
 "nbformat": 4,
 "nbformat_minor": 2
}
