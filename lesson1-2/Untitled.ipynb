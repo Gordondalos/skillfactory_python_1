{
 "cells": [
  {
   "cell_type": "code",
   "execution_count": 1,
   "metadata": {},
   "outputs": [
    {
     "name": "stdout",
     "output_type": "stream",
     "text": [
      "Поздравляем! У вас нет лишнего веса!\n"
     ]
    }
   ],
   "source": [
    "bmi=26\n",
    "if bmi > 25:\n",
    "    print(\"Поздравляем! У вас нет лишнего веса!\")"
   ]
  },
  {
   "cell_type": "code",
   "execution_count": 57,
   "metadata": {},
   "outputs": [
    {
     "name": "stdout",
     "output_type": "stream",
     "text": [
      "65\n",
      "Не хватило баллов.\n"
     ]
    }
   ],
   "source": [
    "n=65\n",
    "print(n)\n",
    "if n>=90:\n",
    "    print(\"Бесплатное обучение.\")\n",
    "elif 70<=n<=89:\n",
    "    print(\"Платное обучение.\")\n",
    "elif n<70:\n",
    "    print(\"Не хватило баллов.\")"
   ]
  },
  {
   "cell_type": "code",
   "execution_count": null,
   "metadata": {},
   "outputs": [],
   "source": [
    "res=a\n",
    "for i in [b,c]:\n",
    "    if res<i:\n",
    "        res=i\n",
    "print(res)\n",
    "    "
   ]
  },
  {
   "cell_type": "code",
   "execution_count": null,
   "metadata": {},
   "outputs": [],
   "source": []
  },
  {
   "cell_type": "code",
   "execution_count": 60,
   "metadata": {},
   "outputs": [],
   "source": [
    "a=3\n",
    "b=4\n",
    "c=5"
   ]
  },
  {
   "cell_type": "code",
   "execution_count": 62,
   "metadata": {},
   "outputs": [
    {
     "name": "stdout",
     "output_type": "stream",
     "text": [
      "Треугольник существует.\n"
     ]
    }
   ],
   "source": [
    "if (a + b > c) & (b + c > a) & (a + c > b):\n",
    "    print('Треугольник существует.')\n",
    "else:\n",
    "    print('Треугольник не существует.')"
   ]
  },
  {
   "cell_type": "code",
   "execution_count": 63,
   "metadata": {},
   "outputs": [
    {
     "data": {
      "text/plain": [
       "0"
      ]
     },
     "execution_count": 63,
     "metadata": {},
     "output_type": "execute_result"
    }
   ],
   "source": [
    "6%2"
   ]
  },
  {
   "cell_type": "code",
   "execution_count": 89,
   "metadata": {},
   "outputs": [
    {
     "name": "stdout",
     "output_type": "stream",
     "text": [
      "Мы заберем 1060.0 у.е. через 10 лет.\n"
     ]
    }
   ],
   "source": [
    "money = 1000\n",
    "year = 0\n",
    "yearly_multiplier = 1.06\n",
    "\n",
    "while money < 2000:\n",
    "    money = money*yearly_multiplier\n",
    "    year = year+1\n",
    "    if year <= 10:\n",
    "        print('Мы заберем', money, 'у.е. через 10 лет.')\n",
    "        break\n",
    "else:\n",
    "    print('Деньги удвоятся через', year, 'лет.')\n",
    "        \n",
    "        \n",
    "        \n",
    "        "
   ]
  },
  {
   "cell_type": "code",
   "execution_count": 91,
   "metadata": {},
   "outputs": [
    {
     "name": "stdout",
     "output_type": "stream",
     "text": [
      "Деньги удвоятся через 2 лет.\n"
     ]
    }
   ],
   "source": [
    "yearly_multiplier=1.5\n",
    "money = 1000\n",
    "year=0\n",
    "for year in range(1,11,1):\n",
    "    money = money*yearly_multiplier\n",
    "    if money >= 2000:\n",
    "        print('Деньги удвоятся через', year, 'лет.')\n",
    "        break\n",
    "    if (i>= 10):\n",
    "        print('Мы заберем', money, 'у.е. через 10 лет.')\n",
    "        break\n",
    "else:\n",
    "    print('Деньги удвоятся через', year, 'лет.')"
   ]
  },
  {
   "cell_type": "code",
   "execution_count": 106,
   "metadata": {},
   "outputs": [
    {
     "name": "stdout",
     "output_type": "stream",
     "text": [
      "3\n",
      "5\n"
     ]
    }
   ],
   "source": [
    "res=0\n",
    "n=2\n",
    "for i in range(1,n+1):\n",
    "    if i%5 != 0:\n",
    "        res+=i\n",
    "print(res)        "
   ]
  },
  {
   "cell_type": "code",
   "execution_count": 112,
   "metadata": {},
   "outputs": [
    {
     "name": "stdout",
     "output_type": "stream",
     "text": [
      "1\n"
     ]
    }
   ],
   "source": [
    "counter = 0\n",
    "def bump_counter(counter):\n",
    "    counter = counter + 1\n",
    "    return counter\n",
    "\n",
    "counter = bump_counter(counter)\n",
    "print(counter)"
   ]
  },
  {
   "cell_type": "code",
   "execution_count": 117,
   "metadata": {},
   "outputs": [
    {
     "name": "stdout",
     "output_type": "stream",
     "text": [
      "2\n",
      "3\n"
     ]
    }
   ],
   "source": [
    "n=5\n",
    "def is_prime(my_num):\n",
    "    d = 2\n",
    "    while my_num % d != 0:\n",
    "        d += 1\n",
    "    return d == my_num\n",
    "\n",
    "for i in range(2,n,1):\n",
    "    if is_prime(i):\n",
    "        print(i)\n",
    "\n"
   ]
  },
  {
   "cell_type": "code",
   "execution_count": 120,
   "metadata": {},
   "outputs": [
    {
     "name": "stdout",
     "output_type": "stream",
     "text": [
      "0.4916052696967982\n"
     ]
    }
   ],
   "source": [
    "import random\n",
    "\n",
    "def avg_of_random_numbers(n):\n",
    "    sum = 0\n",
    "    for i in range(n):\n",
    "        sum+=random.random()\n",
    "    return sum/n\n",
    "\n",
    "res = avg_of_random_numbers(500)\n",
    "print(res)\n",
    "    \n",
    "    "
   ]
  },
  {
   "cell_type": "code",
   "execution_count": 124,
   "metadata": {},
   "outputs": [
    {
     "name": "stdout",
     "output_type": "stream",
     "text": [
      "0.5040069673151824\n",
      "0.5004700572592319\n"
     ]
    }
   ],
   "source": [
    "import random\n",
    "from numpy import sqrt\n",
    "\n",
    "def avg_of_random_numbers(n):\n",
    "    sum = 0\n",
    "    for i in range(n):\n",
    "        sum+=random.random()\n",
    "    return sum/n\n",
    "\n",
    "\n",
    "def get_normal_random(n):\n",
    "    res = avg_of_random_numbers(n)\n",
    "    print(res)\n",
    "    result = (res-0.5)/(1/sqrt(12 * n))\n",
    "    return result\n",
    "\n",
    "r = get_normal_random(1300)\n",
    "print(r)"
   ]
  },
  {
   "cell_type": "code",
   "execution_count": 128,
   "metadata": {},
   "outputs": [
    {
     "ename": "TypeError",
     "evalue": "'int' object is not callable",
     "output_type": "error",
     "traceback": [
      "\u001b[1;31m---------------------------------------------------------------------------\u001b[0m",
      "\u001b[1;31mTypeError\u001b[0m                                 Traceback (most recent call last)",
      "\u001b[1;32m<ipython-input-128-b3a51d4580ae>\u001b[0m in \u001b[0;36m<module>\u001b[1;34m\u001b[0m\n\u001b[0;32m      1\u001b[0m \u001b[0mM\u001b[0m\u001b[1;33m=\u001b[0m\u001b[1;36m2\u001b[0m\u001b[1;33m\u001b[0m\u001b[0m\n\u001b[0;32m      2\u001b[0m \u001b[0mX\u001b[0m\u001b[1;33m=\u001b[0m\u001b[1;36m1\u001b[0m\u001b[1;33m\u001b[0m\u001b[0m\n\u001b[1;32m----> 3\u001b[1;33m \u001b[0mD\u001b[0m \u001b[1;33m=\u001b[0m \u001b[0mM\u001b[0m\u001b[1;33m(\u001b[0m\u001b[0mX\u001b[0m\u001b[1;33m**\u001b[0m\u001b[1;36m2\u001b[0m\u001b[1;33m)\u001b[0m\u001b[1;33m-\u001b[0m\u001b[0mM\u001b[0m\u001b[1;33m(\u001b[0m\u001b[0mX\u001b[0m\u001b[1;33m)\u001b[0m\u001b[1;33m**\u001b[0m\u001b[1;36m2\u001b[0m\u001b[1;33m\u001b[0m\u001b[0m\n\u001b[0m",
      "\u001b[1;31mTypeError\u001b[0m: 'int' object is not callable"
     ]
    }
   ],
   "source": [
    "M=2\n",
    "X=1\n",
    "D = M(X**2)-M(X)**2"
   ]
  },
  {
   "cell_type": "code",
   "execution_count": 3,
   "metadata": {},
   "outputs": [
    {
     "ename": "NameError",
     "evalue": "name 'print_r' is not defined",
     "output_type": "error",
     "traceback": [
      "\u001b[1;31m---------------------------------------------------------------------------\u001b[0m",
      "\u001b[1;31mNameError\u001b[0m                                 Traceback (most recent call last)",
      "\u001b[1;32m<ipython-input-3-bb6f60cc5b40>\u001b[0m in \u001b[0;36m<module>\u001b[1;34m\u001b[0m\n\u001b[1;32m----> 1\u001b[1;33m \u001b[0mprint_r\u001b[0m\u001b[1;33m(\u001b[0m\u001b[1;36m555\u001b[0m\u001b[1;33m)\u001b[0m\u001b[1;33m\u001b[0m\u001b[0m\n\u001b[0m",
      "\u001b[1;31mNameError\u001b[0m: name 'print_r' is not defined"
     ]
    }
   ],
   "source": [
    "print_r(555)"
   ]
  },
  {
   "cell_type": "code",
   "execution_count": null,
   "metadata": {},
   "outputs": [],
   "source": []
  }
 ],
 "metadata": {
  "kernelspec": {
   "display_name": "Python 3",
   "language": "python",
   "name": "python3"
  },
  "language_info": {
   "codemirror_mode": {
    "name": "ipython",
    "version": 3
   },
   "file_extension": ".py",
   "mimetype": "text/x-python",
   "name": "python",
   "nbconvert_exporter": "python",
   "pygments_lexer": "ipython3",
   "version": "3.7.0"
  }
 },
 "nbformat": 4,
 "nbformat_minor": 2
}
