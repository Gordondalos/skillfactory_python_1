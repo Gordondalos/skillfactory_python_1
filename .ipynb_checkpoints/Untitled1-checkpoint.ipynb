{
 "cells": [
  {
   "cell_type": "code",
   "execution_count": 55,
   "metadata": {},
   "outputs": [],
   "source": [
    "from math import sqrt"
   ]
  },
  {
   "cell_type": "code",
   "execution_count": 56,
   "metadata": {},
   "outputs": [],
   "source": [
    "def is_prime(n):\n",
    "    if n < 2:\n",
    "        return False\n",
    "    if n == 2:\n",
    "        return True\n",
    "    limit = sqrt(n)\n",
    "    i = 2\n",
    "    while i <= limit:\n",
    "        if n % i == 0:\n",
    "            return False\n",
    "        i += 1\n",
    "    return True"
   ]
  },
  {
   "cell_type": "code",
   "execution_count": 57,
   "metadata": {},
   "outputs": [],
   "source": [
    "d=4\n",
    "s=1024"
   ]
  },
  {
   "cell_type": "code",
   "execution_count": 58,
   "metadata": {},
   "outputs": [],
   "source": [
    "def getMin(d):\n",
    "    min='1'\n",
    "    l=0\n",
    "    while l<d:\n",
    "        min+='0'\n",
    "        l+=1\n",
    "    return int(min)\n",
    "    "
   ]
  },
  {
   "cell_type": "code",
   "execution_count": 59,
   "metadata": {},
   "outputs": [],
   "source": [
    "def getMax(d):\n",
    "    max='9'\n",
    "    l=0\n",
    "    while l<d:\n",
    "        max+='9'\n",
    "        l+=1\n",
    "    return int(max)"
   ]
  },
  {
   "cell_type": "code",
   "execution_count": 60,
   "metadata": {},
   "outputs": [],
   "source": [
    "min = getMin(d)\n",
    "max = getMax(d)"
   ]
  },
  {
   "cell_type": "code",
   "execution_count": 61,
   "metadata": {},
   "outputs": [],
   "source": [
    "res = [];"
   ]
  },
  {
   "cell_type": "code",
   "execution_count": 62,
   "metadata": {},
   "outputs": [
    {
     "name": "stdout",
     "output_type": "stream",
     "text": [
      "10243\n",
      "10247\n",
      "2\n"
     ]
    }
   ],
   "source": [
    "for i in range(min, max, 1):\n",
    "    if is_prime(i):\n",
    "        myStr = str(i)        \n",
    "        if myStr.find(str(s)) != -1:\n",
    "            print(myStr)\n",
    "            res.append(int(myStr))\n",
    "            \n",
    "print(len(res))\n",
    "            \n",
    "        \n"
   ]
  },
  {
   "cell_type": "code",
   "execution_count": 5,
   "metadata": {},
   "outputs": [
    {
     "name": "stdout",
     "output_type": "stream",
     "text": [
      "[2, None, 1, 3]\n"
     ]
    }
   ],
   "source": [
    "\n",
    "list =  ['11', 12, 'T', 'bee']\n",
    "out = []\n",
    "for i in list:\n",
    "    if type(i) is str:\n",
    "        out.append(len(i))\n",
    "    else:\n",
    "        out.append(None)\n",
    "        \n",
    "print(out)"
   ]
  },
  {
   "cell_type": "code",
   "execution_count": 6,
   "metadata": {},
   "outputs": [
    {
     "name": "stdout",
     "output_type": "stream",
     "text": [
      "[2, None, 1, 3]\n"
     ]
    }
   ],
   "source": [
    "index = 0\n",
    "for i in list:\n",
    "    if type(i) is str:\n",
    "        out[index]=len(i)\n",
    "    else:\n",
    "        out[index]=None\n",
    "    index +=1\n",
    "        \n",
    "print(out)"
   ]
  },
  {
   "cell_type": "code",
   "execution_count": 8,
   "metadata": {},
   "outputs": [
    {
     "data": {
      "text/plain": [
       "[230, 225, 240]"
      ]
     },
     "execution_count": 8,
     "metadata": {},
     "output_type": "execute_result"
    }
   ],
   "source": [
    "results = [230, 225, 240, 245]\n",
    "results[0:3]"
   ]
  },
  {
   "cell_type": "code",
   "execution_count": 12,
   "metadata": {},
   "outputs": [
    {
     "data": {
      "text/plain": [
       "15"
      ]
     },
     "execution_count": 12,
     "metadata": {},
     "output_type": "execute_result"
    }
   ],
   "source": [
    "digits=[1, 2, 3, 4, 5]\n",
    "start = 1\n",
    "end = 3\n",
    "\n",
    "def myfn(digits, start, end):\n",
    "    index = 0\n",
    "    sum = 0\n",
    "    for i in digits:\n",
    "        if index >= start & index < end:\n",
    "            sum+=i\n",
    "    return sum\n",
    "    \n",
    "myfn(digits,start,end)"
   ]
  },
  {
   "cell_type": "code",
   "execution_count": 35,
   "metadata": {},
   "outputs": [
    {
     "name": "stdout",
     "output_type": "stream",
     "text": [
      "2\n",
      "[1, 2]\n",
      "[1, 0]\n",
      "True\n"
     ]
    }
   ],
   "source": [
    "lst = [1, 2, 3, 1, 0]\n",
    "def myFn(lst):\n",
    "    mediana = len(lst)//2        \n",
    "    if len(lst)%2==0:\n",
    "        correct = 0        \n",
    "    else:\n",
    "         correct = 1    \n",
    "    one = lst[:mediana]\n",
    "    two = lst[mediana+correct:]\n",
    "    return one>two\n",
    "    \n",
    "print(myFn(lst))"
   ]
  },
  {
   "cell_type": "code",
   "execution_count": 53,
   "metadata": {},
   "outputs": [
    {
     "data": {
      "text/plain": [
       "[5, 4, 3]"
      ]
     },
     "execution_count": 53,
     "metadata": {},
     "output_type": "execute_result"
    }
   ],
   "source": [
    "lst = [1,2,3,4,5]\n",
    "lst[4:1:-1]"
   ]
  },
  {
   "cell_type": "code",
   "execution_count": 85,
   "metadata": {},
   "outputs": [
    {
     "name": "stdout",
     "output_type": "stream",
     "text": [
      "['Тихомиров']\n"
     ]
    }
   ],
   "source": [
    "experience = ['Вагнер', 7, 'Лисов', 3, 'Тихомиров', 12]\n",
    "def myFn(experience):\n",
    "    max = 0\n",
    "    arr=[]\n",
    "    for i in experience:\n",
    "        if (type(i) is int) and (i > max):\n",
    "            max = i\n",
    "    for item in enumerate(experience):\n",
    "        if (type(item[1]) is int) and (item[1] == max):\n",
    "            arr.append(experience[item[0]-1])          \n",
    "    return arr \n",
    "\n",
    "print(myFn(experience))"
   ]
  },
  {
   "cell_type": "code",
   "execution_count": 88,
   "metadata": {},
   "outputs": [
    {
     "name": "stdout",
     "output_type": "stream",
     "text": [
      "[True, True, False, True]\n"
     ]
    }
   ],
   "source": [
    "lst = ['four', '4', 4, 'четыре']\n",
    "newArr=[]\n",
    "for item in lst:\n",
    "    if type(item) == str:\n",
    "        newArr.append(True)\n",
    "    else:\n",
    "        newArr.append(False)\n",
    "        \n",
    "print(newArr)"
   ]
  },
  {
   "cell_type": "code",
   "execution_count": 112,
   "metadata": {},
   "outputs": [
    {
     "name": "stdout",
     "output_type": "stream",
     "text": [
      "['Бегунова', 'Власова', 'Кашин']\n"
     ]
    }
   ],
   "source": [
    "current = ['Бегунова', 'Власова', 'Кашин', 'Васин']\n",
    "previous = ['Васин', 'Агарков', 'Нархова']\n",
    "\n",
    "for item in previous:\n",
    "    if item in current:\n",
    "        current.remove(item)\n",
    "    \n",
    "print(current)"
   ]
  },
  {
   "cell_type": "code",
   "execution_count": 123,
   "metadata": {},
   "outputs": [
    {
     "name": "stdout",
     "output_type": "stream",
     "text": [
      "[4, 3300]\n"
     ]
    }
   ],
   "source": [
    "transactions = [200, 250, 3300, 780]\n",
    "print([len(transactions), max(transactions)])"
   ]
  },
  {
   "cell_type": "code",
   "execution_count": 126,
   "metadata": {},
   "outputs": [
    {
     "name": "stdout",
     "output_type": "stream",
     "text": [
      "[True, True, False, True, True, True]\n"
     ]
    }
   ],
   "source": [
    "digits = [3, 5, 1, 7, 5, 9]\n",
    "newArr=[]\n",
    "m =  min(digits)\n",
    "for item in digits:\n",
    "    if m < item:\n",
    "        newArr.append(True)\n",
    "    else:\n",
    "        newArr.append(False)\n",
    " \n",
    "print(newArr)"
   ]
  },
  {
   "cell_type": "code",
   "execution_count": 129,
   "metadata": {},
   "outputs": [
    {
     "name": "stdout",
     "output_type": "stream",
     "text": [
      "[(0, 0.1), (1, 0.2)]\n"
     ]
    }
   ],
   "source": [
    "exp = [0.1, 0.2]\n",
    "res = []\n",
    "for item in enumerate(exp):\n",
    "    res.append(item)\n",
    "    \n",
    "print(res)"
   ]
  },
  {
   "cell_type": "code",
   "execution_count": 138,
   "metadata": {},
   "outputs": [
    {
     "name": "stdout",
     "output_type": "stream",
     "text": [
      "None\n",
      "[-1, 0, 4, 8]\n"
     ]
    }
   ],
   "source": [
    "digits=[4, -1, 8, 0]\n",
    "\n",
    "print(digits.sort())\n",
    "\n",
    "print(sorted(digits)) "
   ]
  },
  {
   "cell_type": "code",
   "execution_count": 140,
   "metadata": {},
   "outputs": [
    {
     "ename": "TypeError",
     "evalue": "can only concatenate str (not \"int\") to str",
     "output_type": "error",
     "traceback": [
      "\u001b[1;31m---------------------------------------------------------------------------\u001b[0m",
      "\u001b[1;31mTypeError\u001b[0m                                 Traceback (most recent call last)",
      "\u001b[1;32m<ipython-input-140-ae3616135c27>\u001b[0m in \u001b[0;36m<module>\u001b[1;34m\u001b[0m\n\u001b[0;32m      3\u001b[0m \u001b[0mres\u001b[0m \u001b[1;33m=\u001b[0m \u001b[1;33m[\u001b[0m\u001b[1;33m]\u001b[0m\u001b[1;33m\u001b[0m\u001b[0m\n\u001b[0;32m      4\u001b[0m \u001b[1;32mfor\u001b[0m \u001b[0mname\u001b[0m\u001b[1;33m,\u001b[0m\u001b[0mtab\u001b[0m \u001b[1;32min\u001b[0m \u001b[0mzip\u001b[0m\u001b[1;33m(\u001b[0m\u001b[0mnames\u001b[0m\u001b[1;33m,\u001b[0m\u001b[0mtabs\u001b[0m\u001b[1;33m)\u001b[0m\u001b[1;33m:\u001b[0m\u001b[1;33m\u001b[0m\u001b[0m\n\u001b[1;32m----> 5\u001b[1;33m     \u001b[0mres\u001b[0m\u001b[1;33m.\u001b[0m\u001b[0mappend\u001b[0m\u001b[1;33m(\u001b[0m\u001b[0mname\u001b[0m\u001b[1;33m+\u001b[0m\u001b[1;34m' '\u001b[0m\u001b[1;33m+\u001b[0m\u001b[0mtab\u001b[0m\u001b[1;33m)\u001b[0m\u001b[1;33m\u001b[0m\u001b[0m\n\u001b[0m\u001b[0;32m      6\u001b[0m \u001b[1;33m\u001b[0m\u001b[0m\n\u001b[0;32m      7\u001b[0m \u001b[0mprint\u001b[0m\u001b[1;33m(\u001b[0m\u001b[0mres\u001b[0m\u001b[1;33m)\u001b[0m\u001b[1;33m\u001b[0m\u001b[0m\n",
      "\u001b[1;31mTypeError\u001b[0m: can only concatenate str (not \"int\") to str"
     ]
    }
   ],
   "source": [
    "names = ['Петров', 'Сидоров']\n",
    "tabs = [123, 124]\n",
    "res = []\n",
    "for name,tab in zip(names,tabs):\n",
    "    res.append(name+' '+tab)\n",
    "    \n",
    "print(res)"
   ]
  },
  {
   "cell_type": "code",
   "execution_count": null,
   "metadata": {},
   "outputs": [],
   "source": []
  }
 ],
 "metadata": {
  "kernelspec": {
   "display_name": "Python 3",
   "language": "python",
   "name": "python3"
  },
  "language_info": {
   "codemirror_mode": {
    "name": "ipython",
    "version": 3
   },
   "file_extension": ".py",
   "mimetype": "text/x-python",
   "name": "python",
   "nbconvert_exporter": "python",
   "pygments_lexer": "ipython3",
   "version": "3.7.0"
  }
 },
 "nbformat": 4,
 "nbformat_minor": 2
}
