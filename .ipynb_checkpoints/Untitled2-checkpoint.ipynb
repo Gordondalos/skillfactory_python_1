{
 "cells": [
  {
   "cell_type": "code",
   "execution_count": 17,
   "metadata": {},
   "outputs": [],
   "source": [
    "from numpy import sqrt\n",
    "import random\n",
    "import math\n",
    "\n",
    "# Выдаем стандартную вероличну\n",
    "def avg_of_random_numbers(n):\n",
    "    sum = 0\n",
    "    for i in range(n):\n",
    "        sum+=random.random()\n",
    "    return sum/n\n",
    "\n",
    "# Выдает стандартную нормальную величину\n",
    "def get_normal_random(n):\n",
    "    res = avg_of_random_numbers(n)\n",
    "    result = (res-0.5)/(1/sqrt(12 * n))\n",
    "    return result\n",
    "    \n",
    "# вернем количесво случаев которых стандартная величина вне пределов 0,3 - отбросим выбросы\n",
    "def estimate_outliers(n, m):\n",
    "    result = []\n",
    "    for i in range(m):\n",
    "        temp = get_normal_random(n)\n",
    "        result.append(temp)\n",
    "    new = []\n",
    "    for i in result:\n",
    "        if i > 3 or i < -3:\n",
    "            new.append(i)\n",
    "    return(len(new))\n",
    "\n",
    "\n",
    "# avg_reps: сколько раз усреднять равномерно-распределённую случайную величину;\n",
    "# m: желаемое матожидание;\n",
    "# d: желаемая дисперсия.\n",
    "def get_normal_random_md(avg_reps, m, d):\n",
    "    # получим нормальную стандартную величину\n",
    "    sandart_normal = (avg_of_random_numbers(avg_reps) - 0.5) * math.sqrt(12 * avg_reps)\n",
    "#     Прибавим желаемое матожидание\n",
    "    res = ((sandart_normal) * math.sqrt(d)) + m\n",
    "    return res\n",
    "    \n",
    "    "
   ]
  },
  {
   "cell_type": "code",
   "execution_count": 18,
   "metadata": {},
   "outputs": [
    {
     "data": {
      "text/plain": [
       "0.9176987895075142"
      ]
     },
     "execution_count": 18,
     "metadata": {},
     "output_type": "execute_result"
    }
   ],
   "source": [
    "get_normal_random_md(10000, 1, 3)"
   ]
  },
  {
   "cell_type": "code",
   "execution_count": 1,
   "metadata": {},
   "outputs": [
    {
     "data": {
      "text/plain": [
       "[1, 2, 3]"
      ]
     },
     "execution_count": 1,
     "metadata": {},
     "output_type": "execute_result"
    }
   ],
   "source": [
    "[a % 10 for a in [11, 12, 13]]"
   ]
  },
  {
   "cell_type": "code",
   "execution_count": 3,
   "metadata": {},
   "outputs": [
    {
     "data": {
      "text/plain": [
       "1"
      ]
     },
     "execution_count": 3,
     "metadata": {},
     "output_type": "execute_result"
    }
   ],
   "source": [
    "11%10"
   ]
  },
  {
   "cell_type": "code",
   "execution_count": null,
   "metadata": {},
   "outputs": [],
   "source": []
  },
  {
   "cell_type": "code",
   "execution_count": 6,
   "metadata": {},
   "outputs": [
    {
     "name": "stdout",
     "output_type": "stream",
     "text": [
      "[4, 9, 25]\n"
     ]
    }
   ],
   "source": [
    "digits = [5, 2, 3]\n",
    "print(sorted([a**2 for a in digits]))"
   ]
  },
  {
   "cell_type": "code",
   "execution_count": 8,
   "metadata": {},
   "outputs": [
    {
     "name": "stdout",
     "output_type": "stream",
     "text": [
      "[12, 15, 18]\n"
     ]
    }
   ],
   "source": [
    "print([i for i in range(10,20) if i%3 == 0])"
   ]
  },
  {
   "cell_type": "code",
   "execution_count": 17,
   "metadata": {},
   "outputs": [
    {
     "name": "stdout",
     "output_type": "stream",
     "text": [
      "2\n"
     ]
    }
   ],
   "source": [
    "lst = ['abc', 'qwe', 'lte', 'abc']\n",
    "count=0\n",
    "print(len([count + 1 for i in lst if i == lst[0]]))"
   ]
  },
  {
   "cell_type": "code",
   "execution_count": 20,
   "metadata": {},
   "outputs": [
    {
     "name": "stdout",
     "output_type": "stream",
     "text": [
      "8\n"
     ]
    }
   ],
   "source": [
    "lst_1 = [1, 4, 6]\n",
    "lst_2 = [4, 3, 2]\n",
    "print(max([a+b for a,b in zip(lst_1, lst_2)]))"
   ]
  },
  {
   "cell_type": "code",
   "execution_count": 21,
   "metadata": {},
   "outputs": [
    {
     "data": {
      "text/plain": [
       "[11, 13, 15]"
      ]
     },
     "execution_count": 21,
     "metadata": {},
     "output_type": "execute_result"
    }
   ],
   "source": [
    "[a+b for a, b in enumerate([11, 12, 13])]"
   ]
  },
  {
   "cell_type": "code",
   "execution_count": 30,
   "metadata": {},
   "outputs": [
    {
     "name": "stdout",
     "output_type": "stream",
     "text": [
      "[10, 14, 16, 20, 22, 26, 28]\n"
     ]
    }
   ],
   "source": [
    "my_list=[i+j for i,j in zip(range(10), range(10, 20)) if i%3 == 0 or j%3==0]\n",
    "print(my_list)"
   ]
  },
  {
   "cell_type": "code",
   "execution_count": 28,
   "metadata": {},
   "outputs": [
    {
     "name": "stdout",
     "output_type": "stream",
     "text": [
      "[10, 14, 16, 20, 22, 26, 28]\n"
     ]
    }
   ],
   "source": [
    "my_list = []\n",
    "for i, j in zip(range(10), range(10, 20)):\n",
    "       if i % 3 == 0 or j % 3 == 0:\n",
    "             my_list.append(i + j)\n",
    "print(my_list)"
   ]
  },
  {
   "cell_type": "code",
   "execution_count": 33,
   "metadata": {},
   "outputs": [
    {
     "name": "stdout",
     "output_type": "stream",
     "text": [
      "[[1, 11], [2, 22], [3, 33]]\n"
     ]
    }
   ],
   "source": [
    "lst_1 = [1, 2, 3]\n",
    "lst_2 = [11, 22, 33]\n",
    "\n",
    "print([[a,b] for a,b in zip(lst_1,lst_2)])"
   ]
  },
  {
   "cell_type": "code",
   "execution_count": 53,
   "metadata": {},
   "outputs": [
    {
     "name": "stdout",
     "output_type": "stream",
     "text": [
      "['14 Оля', '12 Дима', '10 Вова']\n"
     ]
    }
   ],
   "source": [
    "names = ['Дима', 'Вова', 'Оля']\n",
    "ages = [12, 10, 14]\n",
    "\n",
    "    \n",
    "print(sorted([str(b) + ' ' + a for a,b in zip(names,ages)], key=lambda user: user.split(' ')[0], reverse=True))"
   ]
  },
  {
   "cell_type": "code",
   "execution_count": 56,
   "metadata": {},
   "outputs": [
    {
     "name": "stdout",
     "output_type": "stream",
     "text": [
      "['Антон', 'Олег', 'Максим', 'Ульяна']\n"
     ]
    }
   ],
   "source": [
    "group = [['Антон', 26], ['Олег', 23], ['Максим', 25], ['Ульяна', 30]]\n",
    "print([user[0] for user in group])"
   ]
  },
  {
   "cell_type": "code",
   "execution_count": null,
   "metadata": {},
   "outputs": [],
   "source": [
    "print([item for item in group if len(item) > 0])"
   ]
  },
  {
   "cell_type": "code",
   "execution_count": 58,
   "metadata": {},
   "outputs": [
    {
     "name": "stdout",
     "output_type": "stream",
     "text": [
      "<class 'str'>\n"
     ]
    }
   ],
   "source": [
    "my_tuple = ('p')\n",
    "print(type(my_tuple))"
   ]
  },
  {
   "cell_type": "code",
   "execution_count": 59,
   "metadata": {},
   "outputs": [],
   "source": [
    "my_dict = {'a': 1,\n",
    "       \t            'a': 2}"
   ]
  },
  {
   "cell_type": "code",
   "execution_count": 60,
   "metadata": {},
   "outputs": [
    {
     "data": {
      "text/plain": [
       "{'a': 2}"
      ]
     },
     "execution_count": 60,
     "metadata": {},
     "output_type": "execute_result"
    }
   ],
   "source": [
    "my_dict"
   ]
  },
  {
   "cell_type": "code",
   "execution_count": 63,
   "metadata": {},
   "outputs": [
    {
     "name": "stdout",
     "output_type": "stream",
     "text": [
      "11\n"
     ]
    }
   ],
   "source": [
    "tenets = [['Иванов', 11], ['Петров', 12], ['Антонов', 13], ['Ильичев', 14]]\n",
    "print({user[0]:user[1] for user in tenets}['Иванов'])"
   ]
  },
  {
   "cell_type": "code",
   "execution_count": 67,
   "metadata": {},
   "outputs": [
    {
     "name": "stdout",
     "output_type": "stream",
     "text": [
      "['Бурцев', 'Воинков', 'Лаков', 'Фатов', 'Филин']\n"
     ]
    }
   ],
   "source": [
    "names = ['Бурцев', 'Воинков', 'Филин', 'Лаков', 'Фатов']\n",
    "classes = [9, 10, 11, 11, 10]\n",
    "print(sorted({fio:number for fio, number in zip(names, classes)}.keys()))"
   ]
  },
  {
   "cell_type": "code",
   "execution_count": 68,
   "metadata": {},
   "outputs": [
    {
     "name": "stdout",
     "output_type": "stream",
     "text": [
      "<class 'dict'>\n"
     ]
    }
   ],
   "source": [
    "print(type({}))"
   ]
  },
  {
   "cell_type": "code",
   "execution_count": 79,
   "metadata": {},
   "outputs": [
    {
     "name": "stdout",
     "output_type": "stream",
     "text": [
      "{'a', 'b', 'd', 'c'}\n",
      "{'f', 'c', 'd', 'e'}\n",
      "2\n"
     ]
    }
   ],
   "source": [
    "s1 = 'abcdabcd'\n",
    "s2 = 'cdcdef'\n",
    "a = set([n for n in s1])\n",
    "b = set([n for n in s2])\n",
    "print(a)\n",
    "print(b)\n",
    "print(len(a.intersection(b)))"
   ]
  },
  {
   "cell_type": "code",
   "execution_count": 83,
   "metadata": {},
   "outputs": [
    {
     "name": "stdout",
     "output_type": "stream",
     "text": [
      "[4, 3, 170]\n"
     ]
    }
   ],
   "source": [
    "exp = [['Андрей', 179], ['Вова', 165], ['Юра', 166], ['Андрей', 170]]\n",
    "print([len(exp), len(set([name[0] for name in exp],)), int(sum([item[1] for item in exp]) / len(exp))])"
   ]
  },
  {
   "cell_type": "code",
   "execution_count": 124,
   "metadata": {},
   "outputs": [
    {
     "name": "stdout",
     "output_type": "stream",
     "text": [
      "[3, 3, 2, 2]\n"
     ]
    }
   ],
   "source": [
    "group = ['Боев', 'Шульман', 'Дугов', 'Багин', 'Южакова', 'Шилова']\n",
    "class_1 = ['Шилова', 'Верин', 'Расихина', 'Шульман', 'Багин', 'Лисов']\n",
    "class_2 = ['Лисов', 'Багин', 'Шилова', 'Южакова', 'Пирсов', 'Нилин']\n",
    "\n",
    "two=set(set(class_1).union(set(class_2)))\n",
    "\n",
    "\n",
    "tv=set(class_1).intersection(set(group))\n",
    "algo=set(class_2).intersection(set(group))\n",
    "\n",
    "\n",
    "print([len(tv), len(algo) , len(set(group).difference(two)), len(set(class_1).intersection(set(class_2)).intersection(set(group)))])\n"
   ]
  },
  {
   "cell_type": "code",
   "execution_count": 125,
   "metadata": {},
   "outputs": [
    {
     "name": "stdout",
     "output_type": "stream",
     "text": [
      "The Zen of Python, by Tim Peters\n",
      "\n",
      "Beautiful is better than ugly.\n",
      "Explicit is better than implicit.\n",
      "Simple is better than complex.\n",
      "Complex is better than complicated.\n",
      "Flat is better than nested.\n",
      "Sparse is better than dense.\n",
      "Readability counts.\n",
      "Special cases aren't special enough to break the rules.\n",
      "Although practicality beats purity.\n",
      "Errors should never pass silently.\n",
      "Unless explicitly silenced.\n",
      "In the face of ambiguity, refuse the temptation to guess.\n",
      "There should be one-- and preferably only one --obvious way to do it.\n",
      "Although that way may not be obvious at first unless you're Dutch.\n",
      "Now is better than never.\n",
      "Although never is often better than *right* now.\n",
      "If the implementation is hard to explain, it's a bad idea.\n",
      "If the implementation is easy to explain, it may be a good idea.\n",
      "Namespaces are one honking great idea -- let's do more of those!\n"
     ]
    }
   ],
   "source": [
    "import this\n"
   ]
  },
  {
   "cell_type": "code",
   "execution_count": 127,
   "metadata": {},
   "outputs": [
    {
     "name": "stdout",
     "output_type": "stream",
     "text": [
      "Хелло ворлд\n"
     ]
    }
   ],
   "source": [
    "def красивая_функция():\n",
    "    print('Хелло ворлд')\n",
    "\n",
    "красивая_функция()"
   ]
  },
  {
   "cell_type": "code",
   "execution_count": null,
   "metadata": {},
   "outputs": [],
   "source": []
  }
 ],
 "metadata": {
  "kernelspec": {
   "display_name": "Python 3",
   "language": "python",
   "name": "python3"
  },
  "language_info": {
   "codemirror_mode": {
    "name": "ipython",
    "version": 3
   },
   "file_extension": ".py",
   "mimetype": "text/x-python",
   "name": "python",
   "nbconvert_exporter": "python",
   "pygments_lexer": "ipython3",
   "version": "3.7.0"
  }
 },
 "nbformat": 4,
 "nbformat_minor": 2
}
