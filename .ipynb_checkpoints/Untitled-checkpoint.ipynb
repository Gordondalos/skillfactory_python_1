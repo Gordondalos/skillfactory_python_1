{
 "cells": [
  {
   "cell_type": "code",
   "execution_count": 1,
   "metadata": {},
   "outputs": [
    {
     "name": "stdout",
     "output_type": "stream",
     "text": [
      "Поздравляем! У вас нет лишнего веса!\n"
     ]
    }
   ],
   "source": [
    "bmi=26\n",
    "if bmi > 25:\n",
    "    print(\"Поздравляем! У вас нет лишнего веса!\")"
   ]
  },
  {
   "cell_type": "code",
   "execution_count": 57,
   "metadata": {},
   "outputs": [
    {
     "name": "stdout",
     "output_type": "stream",
     "text": [
      "65\n",
      "Не хватило баллов.\n"
     ]
    }
   ],
   "source": [
    "n=65\n",
    "print(n)\n",
    "if n>=90:\n",
    "    print(\"Бесплатное обучение.\")\n",
    "elif 70<=n<=89:\n",
    "    print(\"Платное обучение.\")\n",
    "elif n<70:\n",
    "    print(\"Не хватило баллов.\")"
   ]
  },
  {
   "cell_type": "code",
   "execution_count": null,
   "metadata": {},
   "outputs": [],
   "source": [
    "res=a\n",
    "for i in [b,c]:\n",
    "    if res<i:\n",
    "        res=i\n",
    "print(res)\n",
    "    "
   ]
  },
  {
   "cell_type": "code",
   "execution_count": null,
   "metadata": {},
   "outputs": [],
   "source": []
  },
  {
   "cell_type": "code",
   "execution_count": 60,
   "metadata": {},
   "outputs": [],
   "source": [
    "a=3\n",
    "b=4\n",
    "c=5"
   ]
  },
  {
   "cell_type": "code",
   "execution_count": 62,
   "metadata": {},
   "outputs": [
    {
     "name": "stdout",
     "output_type": "stream",
     "text": [
      "Треугольник существует.\n"
     ]
    }
   ],
   "source": [
    "if (a + b > c) & (b + c > a) & (a + c > b):\n",
    "    print('Треугольник существует.')\n",
    "else:\n",
    "    print('Треугольник не существует.')"
   ]
  },
  {
   "cell_type": "code",
   "execution_count": 63,
   "metadata": {},
   "outputs": [
    {
     "data": {
      "text/plain": [
       "0"
      ]
     },
     "execution_count": 63,
     "metadata": {},
     "output_type": "execute_result"
    }
   ],
   "source": [
    "6%2"
   ]
  },
  {
   "cell_type": "code",
   "execution_count": 89,
   "metadata": {},
   "outputs": [
    {
     "name": "stdout",
     "output_type": "stream",
     "text": [
      "Мы заберем 1060.0 у.е. через 10 лет.\n"
     ]
    }
   ],
   "source": [
    "money = 1000\n",
    "year = 0\n",
    "yearly_multiplier = 1.06\n",
    "\n",
    "while money < 2000:\n",
    "    money = money*yearly_multiplier\n",
    "    year = year+1\n",
    "    if year <= 10:\n",
    "        print('Мы заберем', money, 'у.е. через 10 лет.')\n",
    "        break\n",
    "else:\n",
    "    print('Деньги удвоятся через', year, 'лет.')\n",
    "        \n",
    "        \n",
    "        \n",
    "        "
   ]
  },
  {
   "cell_type": "code",
   "execution_count": 91,
   "metadata": {},
   "outputs": [
    {
     "name": "stdout",
     "output_type": "stream",
     "text": [
      "Деньги удвоятся через 2 лет.\n"
     ]
    }
   ],
   "source": [
    "yearly_multiplier=1.5\n",
    "money = 1000\n",
    "year=0\n",
    "for year in range(1,11,1):\n",
    "    money = money*yearly_multiplier\n",
    "    if money >= 2000:\n",
    "        print('Деньги удвоятся через', year, 'лет.')\n",
    "        break\n",
    "    if (i>= 10):\n",
    "        print('Мы заберем', money, 'у.е. через 10 лет.')\n",
    "        break\n",
    "else:\n",
    "    print('Деньги удвоятся через', year, 'лет.')"
   ]
  },
  {
   "cell_type": "code",
   "execution_count": 104,
   "metadata": {},
   "outputs": [
    {
     "name": "stdout",
     "output_type": "stream",
     "text": [
      "3\n"
     ]
    }
   ],
   "source": [
    "res=0\n",
    "n=2\n",
    "for i in range(1,n+1):\n",
    "    if i%5 != 0:\n",
    "        res+=i\n",
    "print(res)\n",
    "        "
   ]
  },
  {
   "cell_type": "raw",
   "metadata": {},
   "source": []
  }
 ],
 "metadata": {
  "kernelspec": {
   "display_name": "Python 3",
   "language": "python",
   "name": "python3"
  },
  "language_info": {
   "codemirror_mode": {
    "name": "ipython",
    "version": 3
   },
   "file_extension": ".py",
   "mimetype": "text/x-python",
   "name": "python",
   "nbconvert_exporter": "python",
   "pygments_lexer": "ipython3",
   "version": "3.7.0"
  }
 },
 "nbformat": 4,
 "nbformat_minor": 2
}
