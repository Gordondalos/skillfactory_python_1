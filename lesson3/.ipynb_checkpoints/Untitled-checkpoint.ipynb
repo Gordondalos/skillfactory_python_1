{
 "cells": [
  {
   "cell_type": "code",
   "execution_count": 9,
   "metadata": {},
   "outputs": [
    {
     "data": {
      "text/plain": [
       "11"
      ]
     },
     "execution_count": 9,
     "metadata": {},
     "output_type": "execute_result"
    }
   ],
   "source": [
    "import random\n",
    "def random_int_victim():\n",
    "    return int(random.uniform(1,19))\n",
    "\n",
    "random_int_victim()"
   ]
  },
  {
   "cell_type": "code",
   "execution_count": 1,
   "metadata": {},
   "outputs": [
    {
     "ename": "NameError",
     "evalue": "name 'rd' is not defined",
     "output_type": "error",
     "traceback": [
      "\u001b[1;31m---------------------------------------------------------------------------\u001b[0m",
      "\u001b[1;31mNameError\u001b[0m                                 Traceback (most recent call last)",
      "\u001b[1;32m<ipython-input-1-f73b1f9dccaf>\u001b[0m in \u001b[0;36m<module>\u001b[1;34m\u001b[0m\n\u001b[0;32m     13\u001b[0m             \u001b[0mcount\u001b[0m\u001b[1;33m[\u001b[0m\u001b[0mc\u001b[0m\u001b[1;33m]\u001b[0m\u001b[1;33m=\u001b[0m\u001b[1;36m1\u001b[0m\u001b[1;33m\u001b[0m\u001b[0m\n\u001b[0;32m     14\u001b[0m     \u001b[1;32mreturn\u001b[0m \u001b[0mcount\u001b[0m\u001b[1;33m\u001b[0m\u001b[0m\n\u001b[1;32m---> 15\u001b[1;33m \u001b[0mprint\u001b[0m\u001b[1;33m(\u001b[0m\u001b[0mcount_victims\u001b[0m\u001b[1;33m(\u001b[0m\u001b[1;33m)\u001b[0m\u001b[1;33m)\u001b[0m\u001b[1;33m\u001b[0m\u001b[0m\n\u001b[0m",
      "\u001b[1;32m<ipython-input-1-f73b1f9dccaf>\u001b[0m in \u001b[0;36mcount_victims\u001b[1;34m()\u001b[0m\n\u001b[0;32m      7\u001b[0m     \u001b[0mb\u001b[0m\u001b[1;33m=\u001b[0m\u001b[0mend\u001b[0m\u001b[1;33m\u001b[0m\u001b[0m\n\u001b[0;32m      8\u001b[0m     \u001b[1;32mfor\u001b[0m \u001b[0mi\u001b[0m \u001b[1;32min\u001b[0m \u001b[0mrange\u001b[0m\u001b[1;33m(\u001b[0m\u001b[0mn\u001b[0m\u001b[1;33m)\u001b[0m\u001b[1;33m:\u001b[0m\u001b[1;33m\u001b[0m\u001b[0m\n\u001b[1;32m----> 9\u001b[1;33m         \u001b[0mc\u001b[0m \u001b[1;33m=\u001b[0m \u001b[0mrd\u001b[0m\u001b[1;33m.\u001b[0m\u001b[0mrandint\u001b[0m\u001b[1;33m(\u001b[0m\u001b[0ma\u001b[0m\u001b[1;33m,\u001b[0m \u001b[0mb\u001b[0m\u001b[1;33m)\u001b[0m\u001b[1;33m\u001b[0m\u001b[0m\n\u001b[0m\u001b[0;32m     10\u001b[0m         \u001b[1;32mif\u001b[0m \u001b[0mc\u001b[0m \u001b[1;32min\u001b[0m \u001b[0mcount\u001b[0m\u001b[1;33m:\u001b[0m\u001b[1;33m\u001b[0m\u001b[0m\n\u001b[0;32m     11\u001b[0m             \u001b[0mcount\u001b[0m\u001b[1;33m[\u001b[0m\u001b[0mc\u001b[0m\u001b[1;33m]\u001b[0m\u001b[1;33m+=\u001b[0m\u001b[1;36m1\u001b[0m\u001b[1;33m\u001b[0m\u001b[0m\n",
      "\u001b[1;31mNameError\u001b[0m: name 'rd' is not defined"
     ]
    }
   ],
   "source": [
    "start = 1\n",
    "end = 18\n",
    "n=10000\n",
    "def count_victims():\n",
    "    count={}\n",
    "    a=start\n",
    "    b=end\n",
    "    for i in range(n):\n",
    "        c = rd.randint(a, b)\n",
    "        if c in count:\n",
    "            count[c]+=1\n",
    "        else:\n",
    "            count[c]=1\n",
    "    return count\n",
    "print(count_victims())"
   ]
  },
  {
   "cell_type": "code",
   "execution_count": null,
   "metadata": {},
   "outputs": [],
   "source": [
    "import random\n",
    "gauss = []\n",
    "def count_outliers(mu, sigma, n):\n",
    "    for i in range(n):\n",
    "        b = random.gauss(mu, sigma)\n",
    "        if b > sigma * 3 or (sigma > 0 and b < 0):\n",
    "            gauss.append(b)\n",
    "        elif b < sigma * 3 and sigma < 0:\n",
    "            gauss.append(b)\n",
    "    return len(gauss)"
   ]
  },
  {
   "cell_type": "code",
   "execution_count": 2,
   "metadata": {},
   "outputs": [
    {
     "data": {
      "text/plain": [
       "1.0"
      ]
     },
     "execution_count": 2,
     "metadata": {},
     "output_type": "execute_result"
    }
   ],
   "source": [
    "import math\n",
    "math.log(8, 8) "
   ]
  },
  {
   "cell_type": "code",
   "execution_count": 8,
   "metadata": {},
   "outputs": [
    {
     "name": "stdout",
     "output_type": "stream",
     "text": [
      "qwe.hello\n"
     ]
    }
   ],
   "source": [
    "def extract_column(data, n):\n",
    "    res_arr=[]\n",
    "    for item in data:\n",
    "        st=item.split(',')\n",
    "        res_arr.append(st[n])\n",
    "    return '.'.join(res_arr)\n",
    "\n",
    "\n",
    "data=[\"123,abc,748,qwe,tyu\", \"432,ghj,834,hello,555,\"];\n",
    "n=3\n",
    "\n",
    "res = extract_column(data,n)\n",
    "print(res)"
   ]
  },
  {
   "cell_type": "code",
   "execution_count": 15,
   "metadata": {},
   "outputs": [
    {
     "name": "stdout",
     "output_type": "stream",
     "text": [
      "Гусельский\n"
     ]
    }
   ],
   "source": [
    "import xml.etree.ElementTree as ET\n",
    "# Напишите ваш код ниже\n",
    "def client_name(data):\n",
    "    root = ET.fromstring(data)\n",
    "    for child in root:\n",
    "        if child.tag == 'client':\n",
    "            for ch in child:\n",
    "                 if ch.tag == 'name':\n",
    "                    print(ch.text)\n",
    "                    pass\n",
    "        \n",
    "        \n",
    "        \n",
    "data = '''\n",
    "<xml>\n",
    "  <client>\n",
    "    <name>Гусельский</name>\n",
    "  </client>\n",
    "  <account>\n",
    "    <bank>Sberbank</bank>\n",
    "    <id>12345</id>\n",
    "  </account>\n",
    "</xml>\n",
    "'''\n",
    "\n",
    "client_name(data)\n"
   ]
  },
  {
   "cell_type": "code",
   "execution_count": 40,
   "metadata": {},
   "outputs": [
    {
     "name": "stdout",
     "output_type": "stream",
     "text": [
      "100.0\n",
      "200.0\n",
      "300.0\n"
     ]
    }
   ],
   "source": [
    "import xml.etree.ElementTree as ET\n",
    "# Напишите ваш код ниже\n",
    "def sum_orders(data):\n",
    "    root = ET.fromstring(data)\n",
    "    i=0\n",
    "    for child in root.iter('price'):\n",
    "        print(child.text)\n",
    "        i+=float(child.text)\n",
    "        \n",
    "    return i\n",
    "\n",
    "\n",
    "data = '''\n",
    "<xml>\n",
    "   <order><id>23</id><price>100.0</price></order>\n",
    "   <order><id>45</id><price>200.0</price></order>\n",
    "</xml>\n",
    "'''\n",
    "\n",
    "print(sum_orders(data))"
   ]
  },
  {
   "cell_type": "code",
   "execution_count": 71,
   "metadata": {},
   "outputs": [
    {
     "name": "stdout",
     "output_type": "stream",
     "text": [
      "один\n",
      "Красивое лучше, чем уродливое.\n",
      "Явное лучше, чем неявное.\n",
      "Простое лучше, чем сложное.\n",
      "Сложное лучше, чем запутанное.\n",
      "Плоское лучше, чем вложенное.\n",
      "Разреженное лучше, чем плотное.\n",
      "Читаемость имеет значение.\n",
      "Особые случаи не настолько особые, чтобы нарушать правила.\n",
      "При этом практичность важнее безупречности.\n",
      "Ошибки никогда не должны замалчиваться.\n",
      "Если они не замалчиваются явно.\n",
      "Встретив двусмысленность, отбрось искушение угадать.\n",
      "Должен существовать один и, желательно, только один очевидный способ сделать это.\n",
      "Хотя он поначалу может быть и не очевиден, если вы не голландец [^1].\n",
      "Сейчас лучше, чем никогда.\n",
      "Хотя никогда зачастую лучше, чем прямо сейчас.\n",
      "Если реализацию сложно объяснить — идея плоха.\n",
      "Если реализацию легко объяснить — идея, возможно, хороша.\n",
      "Пространства имён — отличная штука! Будем делать их больше!\n",
      "2\n"
     ]
    }
   ],
   "source": [
    "import re\n",
    "search=r'один'\n",
    "print(search)\n",
    "file = open(\"python_zen.txt\", \"rt\", encoding='utf-8')\n",
    "text = file.read()\n",
    "print(text)\n",
    "\n",
    "res = re.findall(search, text)\n",
    "\n",
    "print(len(res))"
   ]
  },
  {
   "cell_type": "code",
   "execution_count": 96,
   "metadata": {},
   "outputs": [
    {
     "name": "stdout",
     "output_type": "stream",
     "text": [
      "их\n"
     ]
    }
   ],
   "source": [
    "import re\n",
    "def next_word(word):\n",
    "    file = open(\"python_zen.txt\", \"rt\", encoding='utf-8')\n",
    "    text = file.read()\n",
    "    res = re.split(F' {word}', text, 1)\n",
    "    patern=re.compile('\\w+')\n",
    "\n",
    "    return patern.findall(res[1])[0]\n",
    "\n",
    "print(next_word('делать'))"
   ]
  },
  {
   "cell_type": "code",
   "execution_count": 99,
   "metadata": {},
   "outputs": [
    {
     "name": "stdout",
     "output_type": "stream",
     "text": [
      "b'<?xml version=\"1.0\" encoding=\"utf-8\" ?> <rss version=\"2.0\" xml:base=\"http://www.nasa.gov/\" xmlns:atom=\"http://www.w3.org/2005/Atom\" xmlns:dc=\"http://purl.org/dc/elements/1.1/\" xmlns:itunes=\"http://www.itunes.com/dtds/podcast-1.0.dtd\" xmlns:media=\"http://search.yahoo.com/mrss/\"> <channel> <title>NASA Breaking News</title>\\n <description>A RSS news feed containing the latest NASA news articles and press releases.</description>\\n <link>http://www.nasa.gov/</link>\\n <atom:link rel=\"self\" href=\"http://www.nasa.gov/rss/dyn/breaking_news.rss\" />\\n <language>en-us</language>\\n <managingEditor>jim.wilson@nasa.gov</managingEditor>\\n <webMaster>brian.dunbar@nasa.gov</webMaster>\\n <docs>http://blogs.harvard.edu/tech/rss</docs>\\n <item> <title>NASA Report Details How Agency Significantly Benefits US Economy</title>\\n <link>http://www.nasa.gov/press-release/nasa-report-details-how-agency-significantly-benefits-us-economy</link>\\n <description>NASA released Friday the results of its first-ever agencywide economic impact report. The report shows that, through all NASA activities, the agency generated more than $64.3 billion in total economic output during fiscal year 2019, supported more than 312,000 jobs nationwide, and generated an estimated $7 billion in federal, state, and local taxes</description>\\n <enclosure url=\"http://www.nasa.gov/sites/default/files/styles/1x1_cardfeed/public/thumbnails/image/nhq201906070001.jpg?itok=w0sWVFoE\" length=\"5941617\" type=\"image/jpeg\" />\\n <guid isPermaLink=\"false\">http://www.nasa.gov/press-release/nasa-report-details-how-agency-significantly-benefits-us-economy</guid>\\n <pubDate>Fri, 25 Sep 2020 07:00 EDT</pubDate>\\n <source url=\"http://www.nasa.gov/rss/dyn/breaking_news.rss\">NASA Breaking News</source>\\n <dc:identifier>464860</dc:identifier>\\n</item>\\n <item> <title>NASA Invites Media, Public to Watch Cargo Launch to Space Station</title>\\n <link>http://www.nasa.gov/press-release/nasa-invites-media-public-to-watch-cargo-launch-to-space-station</link>\\n <description>NASA commercial cargo provider Northrop Grumman is targeting 10:27 p.m. EDT Tuesday, Sept. 29, for the launch of its 14th resupply mission to the International Space Station.</description>\\n <enclosure url=\"http://www.nasa.gov/sites/default/files/styles/1x1_cardfeed/public/thumbnails/image/46717598875_8f156b8ed9_k.jpg?itok=6aaz1g03\" length=\"528138\" type=\"image/jpeg\" />\\n <guid isPermaLink=\"false\">http://www.nasa.gov/press-release/nasa-invites-media-public-to-watch-cargo-launch-to-space-station</guid>\\n <pubDate>Thu, 24 Sep 2020 09:32 EDT</pubDate>\\n <source url=\"http://www.nasa.gov/rss/dyn/breaking_news.rss\">NASA Breaking News</source>\\n <dc:identifier>464792</dc:identifier>\\n</item>\\n <item> <title>NASA Invites Media to Hot Fire Test for Mega Rocket to Support Moon Missions</title>\\n <link>http://www.nasa.gov/press-release/nasa-invites-media-to-hot-fire-test-for-mega-rocket-to-support-moon-missions</link>\\n <description>Media accreditation is now open for NASA\\xe2\\x80\\x99s Space Launch System (SLS) rocket Green Run hot fire test \\xe2\\x80\\x93 the test of the rocket\\xe2\\x80\\x99s core stage and all of its integrated systems before its flight on the Artemis I lunar mission, scheduled for 2021.</description>\\n <enclosure url=\"http://www.nasa.gov/sites/default/files/styles/1x1_cardfeed/public/thumbnails/image/dsc_2923orig.jpg?itok=HK89bl7e\" length=\"2249572\" type=\"image/jpeg\" />\\n <guid isPermaLink=\"false\">http://www.nasa.gov/press-release/nasa-invites-media-to-hot-fire-test-for-mega-rocket-to-support-moon-missions</guid>\\n <pubDate>Wed, 23 Sep 2020 16:48 EDT</pubDate>\\n <source url=\"http://www.nasa.gov/rss/dyn/breaking_news.rss\">NASA Breaking News</source>\\n <dc:identifier>464772</dc:identifier>\\n</item>\\n <item> <title>NASA Invites Students to Join the Artemis Generation at SciFest Virtual Event</title>\\n <link>http://www.nasa.gov/press-release/nasa-invites-students-to-join-the-artemis-generation-at-scifest-virtual-event</link>\\n <description>Venture with NASA to discover the future of flight, understand the portrait of planet Earth, and take the next steps in exploration at SciFest, the virtual STEM expo from the USA Science and Engineering Festival</description>\\n <enclosure url=\"http://www.nasa.gov/sites/default/files/styles/1x1_cardfeed/public/thumbnails/image/releasegraphicscifest.jpg?itok=D9BnifeK\" length=\"224940\" type=\"image/jpeg\" />\\n <guid isPermaLink=\"false\">http://www.nasa.gov/press-release/nasa-invites-students-to-join-the-artemis-generation-at-scifest-virtual-event</guid>\\n <pubDate>Wed, 23 Sep 2020 14:35 EDT</pubDate>\\n <source url=\"http://www.nasa.gov/rss/dyn/breaking_news.rss\">NASA Breaking News</source>\\n <dc:identifier>464750</dc:identifier>\\n</item>\\n <item> <title>NASA to Provide Update on Agency\\xe2\\x80\\x99s First Asteroid Sample Collection Attempt</title>\\n <link>http://www.nasa.gov/press-release/nasa-to-provide-update-on-agency-s-first-asteroid-sample-collection-attempt</link>\\n <description>NASA is hosting a media teleconference at 3 p.m. EDT Thursday, Sept. 24, to provide an update on the agency\\xe2\\x80\\x99s first attempt to contact the surface of asteroid Bennu and collect a sample next month.</description>\\n <enclosure url=\"http://www.nasa.gov/sites/default/files/styles/1x1_cardfeed/public/thumbnails/image/bennu.png?itok=vAwU-5S8\" length=\"1279046\" type=\"image/png\" />\\n <guid isPermaLink=\"false\">http://www.nasa.gov/press-release/nasa-to-provide-update-on-agency-s-first-asteroid-sample-collection-attempt</guid>\\n <pubDate>Tue, 22 Sep 2020 10:39 EDT</pubDate>\\n <source url=\"http://www.nasa.gov/rss/dyn/breaking_news.rss\">NASA Breaking News</source>\\n <dc:identifier>464692</dc:identifier>\\n</item>\\n <item> <title>NASA, US Space Force Establish Foundation for Broad Collaboration</title>\\n <link>http://www.nasa.gov/press-release/nasa-us-space-force-establish-foundation-for-broad-collaboration</link>\\n <description>While advancing plans for unprecedented lunar exploration under the Artemis program, NASA also is building on a longstanding partnership with the Department of Defense with a new memorandum of understanding announced today by NASA Administrator Jim Bridenstine and U.S. Space Force (USSF) Chief of Space Operations Gen. John \\xe2\\x80\\x9cJay\\xe2\\x80\\x9d Raymond.</description>\\n <enclosure url=\"http://www.nasa.gov/sites/default/files/styles/1x1_cardfeed/public/thumbnails/image/nasa-logo-web-rgb.jpg?itok=36eU9WU7\" length=\"189751\" type=\"image/jpeg\" />\\n <guid isPermaLink=\"false\">http://www.nasa.gov/press-release/nasa-us-space-force-establish-foundation-for-broad-collaboration</guid>\\n <pubDate>Tue, 22 Sep 2020 09:30 EDT</pubDate>\\n <source url=\"http://www.nasa.gov/rss/dyn/breaking_news.rss\">NASA Breaking News</source>\\n <dc:identifier>464680</dc:identifier>\\n</item>\\n <item> <title>NASA Highlights Science, Business on Next Northrop Grumman Mission to Space Station</title>\\n <link>http://www.nasa.gov/press-release/nasa-highlights-science-business-on-next-northrop-grumman-mission-to-space-station</link>\\n <description>NASA will host a media teleconference at 1 p.m. EDT Thursday, Sept. 24, to discuss science investigations, technology demonstrations, and commercial products launching on Northrop Grumman\\xe2\\x80\\x99s 14th commercial resupply mission for the agency to the International Space Station.</description>\\n <enclosure url=\"http://www.nasa.gov/sites/default/files/styles/1x1_cardfeed/public/thumbnails/image/384g9174.jpg?itok=Oky6GVaA\" length=\"2991640\" type=\"image/jpeg\" />\\n <guid isPermaLink=\"false\">http://www.nasa.gov/press-release/nasa-highlights-science-business-on-next-northrop-grumman-mission-to-space-station</guid>\\n <pubDate>Mon, 21 Sep 2020 15:01 EDT</pubDate>\\n <source url=\"http://www.nasa.gov/rss/dyn/breaking_news.rss\">NASA Breaking News</source>\\n <dc:identifier>464663</dc:identifier>\\n</item>\\n <item> <title>NASA Publishes Artemis Plan to Land First Woman, Next Man on Moon in 2024</title>\\n <link>http://www.nasa.gov/press-release/nasa-publishes-artemis-plan-to-land-first-woman-next-man-on-moon-in-2024</link>\\n <description>Following a series of critical contract awards and hardware milestones, NASA has shared an update on its Artemis program, including the latest Phase 1 plans to land the first woman and the next man on the surface of the Moon in 2024.</description>\\n <enclosure url=\"http://www.nasa.gov/sites/default/files/styles/1x1_cardfeed/public/thumbnails/image/artemis_plan_web_banner.jpg?itok=yPQSlrdu\" length=\"1516410\" type=\"image/jpeg\" />\\n <guid isPermaLink=\"false\">http://www.nasa.gov/press-release/nasa-publishes-artemis-plan-to-land-first-woman-next-man-on-moon-in-2024</guid>\\n <pubDate>Mon, 21 Sep 2020 14:30 EDT</pubDate>\\n <source url=\"http://www.nasa.gov/rss/dyn/breaking_news.rss\">NASA Breaking News</source>\\n <dc:identifier>464662</dc:identifier>\\n</item>\\n <item> <title>NASA to Discuss Early Artemis Exploration Plans with Media</title>\\n <link>http://www.nasa.gov/press-release/nasa-to-discuss-early-artemis-exploration-plans-with-media</link>\\n <description>NASA Administrator Jim Bridenstine will discuss the agency\\xe2\\x80\\x99s latest Artemis program exploration plans during a media teleconference today at 5 p.m. EDT.</description>\\n <enclosure url=\"http://www.nasa.gov/sites/default/files/styles/1x1_cardfeed/public/thumbnails/image/artemis_logo_0.png?itok=VPGDxfvt\" length=\"19919\" type=\"image/png\" />\\n <guid isPermaLink=\"false\">http://www.nasa.gov/press-release/nasa-to-discuss-early-artemis-exploration-plans-with-media</guid>\\n <pubDate>Mon, 21 Sep 2020 10:18 EDT</pubDate>\\n <source url=\"http://www.nasa.gov/rss/dyn/breaking_news.rss\">NASA Breaking News</source>\\n <dc:identifier>464643</dc:identifier>\\n</item>\\n <item> <title>NASA Invites Media to Launch of Sentinel-6 Michael Freilich Satellite from West Coast</title>\\n <link>http://www.nasa.gov/press-release/nasa-invites-media-to-launch-of-sentinel-6-michael-freilich-satellite-from-west-coast</link>\\n <description>Media accreditation is open for the launch of the Sentinel-6 Michael Freilich satellite, an international collaboration between NASA and several partners.</description>\\n <enclosure url=\"http://www.nasa.gov/sites/default/files/styles/1x1_cardfeed/public/thumbnails/image/sentinel-6-art-1041.jpg?itok=I3kISrj0\" length=\"151199\" type=\"image/jpeg\" />\\n <guid isPermaLink=\"false\">http://www.nasa.gov/press-release/nasa-invites-media-to-launch-of-sentinel-6-michael-freilich-satellite-from-west-coast</guid>\\n <pubDate>Fri, 18 Sep 2020 17:56 EDT</pubDate>\\n <source url=\"http://www.nasa.gov/rss/dyn/breaking_news.rss\">NASA Breaking News</source>\\n <dc:identifier>464623</dc:identifier>\\n</item>\\n</channel>\\n</rss>\\n'\n"
     ]
    }
   ],
   "source": [
    "import ssl\n",
    "import urllib.request\n",
    "context = ssl._create_unverified_context()\n",
    "response = urllib.request.urlopen(\"https://www.nasa.gov/rss/dyn/breaking_news.rss\", context=context)\n",
    "data = response.read()\n",
    "print(data)"
   ]
  },
  {
   "cell_type": "code",
   "execution_count": 100,
   "metadata": {},
   "outputs": [
    {
     "name": "stdout",
     "output_type": "stream",
     "text": [
      "title {}\n",
      "description {}\n",
      "link {}\n",
      "{http://www.w3.org/2005/Atom}link {'rel': 'self', 'href': 'http://www.nasa.gov/rss/dyn/breaking_news.rss'}\n",
      "language {}\n",
      "managingEditor {}\n",
      "webMaster {}\n",
      "docs {}\n",
      "item {}\n",
      "item {}\n",
      "item {}\n",
      "item {}\n",
      "item {}\n",
      "item {}\n",
      "item {}\n",
      "item {}\n",
      "item {}\n",
      "item {}\n"
     ]
    }
   ],
   "source": [
    "import xml.etree.ElementTree as ET\n",
    "root = ET.fromstring(data)\n",
    "root = root.find(\"channel\")\n",
    "for item in root:\n",
    "    print(item.tag, item.attrib)"
   ]
  },
  {
   "cell_type": "code",
   "execution_count": 101,
   "metadata": {},
   "outputs": [
    {
     "name": "stdout",
     "output_type": "stream",
     "text": [
      "NASA Breaking News\n"
     ]
    }
   ],
   "source": [
    "title = root.find(\"title\")\n",
    "print(title.text)"
   ]
  },
  {
   "cell_type": "code",
   "execution_count": 102,
   "metadata": {},
   "outputs": [
    {
     "name": "stdout",
     "output_type": "stream",
     "text": [
      "NASA Report Details How Agency Significantly Benefits US Economy\n",
      "NASA Invites Media, Public to Watch Cargo Launch to Space Station\n",
      "NASA Invites Media to Hot Fire Test for Mega Rocket to Support Moon Missions\n",
      "NASA Invites Students to Join the Artemis Generation at SciFest Virtual Event\n",
      "NASA to Provide Update on Agency’s First Asteroid Sample Collection Attempt\n",
      "NASA, US Space Force Establish Foundation for Broad Collaboration\n",
      "NASA Highlights Science, Business on Next Northrop Grumman Mission to Space Station\n",
      "NASA Publishes Artemis Plan to Land First Woman, Next Man on Moon in 2024\n",
      "NASA to Discuss Early Artemis Exploration Plans with Media\n",
      "NASA Invites Media to Launch of Sentinel-6 Michael Freilich Satellite from West Coast\n"
     ]
    }
   ],
   "source": [
    "for item in root.findall(\"item\"):\n",
    "    title = item.find(\"title\")\n",
    "    print(title.text)"
   ]
  },
  {
   "cell_type": "code",
   "execution_count": null,
   "metadata": {},
   "outputs": [],
   "source": []
  }
 ],
 "metadata": {
  "kernelspec": {
   "display_name": "Python 3",
   "language": "python",
   "name": "python3"
  },
  "language_info": {
   "codemirror_mode": {
    "name": "ipython",
    "version": 3
   },
   "file_extension": ".py",
   "mimetype": "text/x-python",
   "name": "python",
   "nbconvert_exporter": "python",
   "pygments_lexer": "ipython3",
   "version": "3.7.0"
  }
 },
 "nbformat": 4,
 "nbformat_minor": 2
}
