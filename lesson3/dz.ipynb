{
 "cells": [
  {
   "cell_type": "code",
   "execution_count": 12,
   "metadata": {},
   "outputs": [
    {
     "data": {
      "text/plain": [
       "'Japan'"
      ]
     },
     "execution_count": 12,
     "metadata": {},
     "output_type": "execute_result"
    }
   ],
   "source": [
    "import pandas as pd\n",
    "df = pd.read_json('./covid.json')\n",
    "\n",
    "def max_value(value_name):\n",
    "    newDf = pd.DataFrame({'country': df.loc['location'], value_name: df.loc[value_name]})\n",
    "    mediana=newDf[value_name].mean()\n",
    "    newDf[value_name]=pd.DataFrame(newDf[value_name]).fillna(int(mediana))\n",
    "    index=newDf[value_name].idxmax();\n",
    "    return newDf.loc[index].country \n",
    "\n",
    "max_value('median_age')\n",
    "    "
   ]
  },
  {
   "cell_type": "code",
   "execution_count": 17,
   "metadata": {},
   "outputs": [],
   "source": [
    "df = pd.read_json('./covid.json')"
   ]
  },
  {
   "cell_type": "code",
   "execution_count": 72,
   "metadata": {},
   "outputs": [
    {
     "data": {
      "text/plain": [
       "'2020-08-13'"
      ]
     },
     "execution_count": 72,
     "metadata": {},
     "output_type": "execute_result"
    }
   ],
   "source": [
    "import re\n",
    "\n",
    "def day_with_max_value(value_name):\n",
    "    newDf = pd.DataFrame({'data': df.loc['data']})\n",
    "    arr = []\n",
    "    \n",
    "    for iter in newDf['data']:\n",
    "        for it in iter:\n",
    "            arr.append(it)\n",
    "    \n",
    "    s = r'2020-08-\\d{2}'\n",
    "    def filt(item):\n",
    "        m_str = item['date']\n",
    "        result = re.match(s, m_str)\n",
    "        return result != None\n",
    "        \n",
    "    res = list(filter(filt , arr))\n",
    "   \n",
    "    maxVaue=0\n",
    "    maxVaueDate=''\n",
    "    for item in res:\n",
    "        if value_name in item and item[value_name] > maxVaue:\n",
    "            maxVaue = item[value_name]\n",
    "            maxVaueDate = item['date']\n",
    "            \n",
    "    return maxVaueDate\n",
    "\n",
    "    \n",
    "    \n",
    "\n",
    "    \n",
    "day_with_max_value('new_cases')\n",
    "    "
   ]
  },
  {
   "cell_type": "code",
   "execution_count": null,
   "metadata": {},
   "outputs": [],
   "source": []
  },
  {
   "cell_type": "code",
   "execution_count": 88,
   "metadata": {},
   "outputs": [],
   "source": [
    "import json\n",
    "import math\n",
    "import math\n",
    "def corr(data_x, data_y):\n",
    "    sx, sy, sxy, sx2, sy2, n = 0.0, 0.0, 0.0, 0.0, 0.0, 0\n",
    "    for x, y in zip(data_x, data_y):\n",
    "        sx += x\n",
    "        sx2 += x*x\n",
    "        sy += y\n",
    "        sy2 += y*y\n",
    "        sxy += x*y\n",
    "        n += 1\n",
    "    dd = math.sqrt((sx2 / n - (sx / n * sx / n)) * (sy2 / n - (sy / n * sy / n)))\n",
    "    if abs(dd) < 1e-5:\n",
    "        return None\n",
    "    return (sxy / n - sx / n * sy / n) / dd\n",
    "\n",
    "def correlation_cases_tests(country_code):\n",
    "    with open(\"covid.json\") as file:\n",
    "#         f1 = open(\"text1.txt\", 'w')\n",
    "        js = json.loads(file.read())\n",
    "#         js_set = []\n",
    "        tot_cases = []\n",
    "        tot_test = []\n",
    "        for cntr in js[country_code]['data']:\n",
    "            if cntr['date'].split('-')[1] == '08':\n",
    "                if 'new_cases' not in cntr:\n",
    "                    tot_cases.append(0)\n",
    "                    continue\n",
    "                if 'new_tests' not in cntr:\n",
    "                    tot_test.append(0)\n",
    "                    continue\n",
    "                # print(a)\n",
    "                tot_cases.append(float(cntr['new_cases']))\n",
    "                tot_test.append(float(cntr['new_tests']))\n",
    "                \n",
    "        print(tot_cases)        \n",
    "        return corr(tot_cases, tot_test)"
   ]
  },
  {
   "cell_type": "code",
   "execution_count": 89,
   "metadata": {},
   "outputs": [
    {
     "name": "stdout",
     "output_type": "stream",
     "text": [
      "[57118.0, 54735.0, 52972.0, 52050.0, 52509.0, 56282.0, 62538.0, 61537.0, 64399.0, 62064.0, 53601.0, 60963.0, 66999.0, 64553.0, 65002.0, 63490.0, 57981.0, 55079.0, 64531.0, 69652.0, 68898.0, 69878.0, 69239.0, 61408.0, 60975.0, 67151.0, 75760.0, 77266.0, 76472.0, 78761.0, 78512.0]\n"
     ]
    },
    {
     "data": {
      "text/plain": [
       "0.5935340285658485"
      ]
     },
     "execution_count": 89,
     "metadata": {},
     "output_type": "execute_result"
    }
   ],
   "source": [
    "correlation_cases_tests('IND')"
   ]
  },
  {
   "cell_type": "code",
   "execution_count": null,
   "metadata": {},
   "outputs": [],
   "source": [
    "57118.0, 54735.0, 52972.0, 52050.0, 52509.0, 56282.0, 62538.0, 61537.0, 64399.0, 62064.0, 53601.0, 60963.0, 66999.0, 64553.0, 65002.0, 63490.0, 57981.0, 55079.0, 64531.0, 69652.0, 68898.0, 69878.0, 69239.0, 61408.0, 60975.0, 67151.0, 75760.0, 77266.0, 76472.0, 78761.0, 78512.0"
   ]
  }
 ],
 "metadata": {
  "kernelspec": {
   "display_name": "Python 3",
   "language": "python",
   "name": "python3"
  },
  "language_info": {
   "codemirror_mode": {
    "name": "ipython",
    "version": 3
   },
   "file_extension": ".py",
   "mimetype": "text/x-python",
   "name": "python",
   "nbconvert_exporter": "python",
   "pygments_lexer": "ipython3",
   "version": "3.7.0"
  }
 },
 "nbformat": 4,
 "nbformat_minor": 2
}
