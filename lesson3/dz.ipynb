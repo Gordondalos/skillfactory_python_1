{
 "cells": [
  {
   "cell_type": "code",
   "execution_count": 12,
   "metadata": {},
   "outputs": [
    {
     "data": {
      "text/plain": [
       "'Japan'"
      ]
     },
     "execution_count": 12,
     "metadata": {},
     "output_type": "execute_result"
    }
   ],
   "source": [
    "import pandas as pd\n",
    "df = pd.read_json('./covid.json')\n",
    "\n",
    "def max_value(value_name):\n",
    "    newDf = pd.DataFrame({'country': df.loc['location'], value_name: df.loc[value_name]})\n",
    "    mediana=newDf[value_name].mean()\n",
    "    newDf[value_name]=pd.DataFrame(newDf[value_name]).fillna(int(mediana))\n",
    "    index=newDf[value_name].idxmax();\n",
    "    return newDf.loc[index].country \n",
    "\n",
    "max_value('median_age')\n",
    "    "
   ]
  },
  {
   "cell_type": "code",
   "execution_count": 17,
   "metadata": {},
   "outputs": [],
   "source": [
    "df = pd.read_json('./covid.json')"
   ]
  },
  {
   "cell_type": "code",
   "execution_count": 72,
   "metadata": {},
   "outputs": [
    {
     "data": {
      "text/plain": [
       "'2020-08-13'"
      ]
     },
     "execution_count": 72,
     "metadata": {},
     "output_type": "execute_result"
    }
   ],
   "source": [
    "import re\n",
    "\n",
    "def day_with_max_value(value_name):\n",
    "    newDf = pd.DataFrame({'data': df.loc['data']})\n",
    "    arr = []\n",
    "    \n",
    "    for iter in newDf['data']:\n",
    "        for it in iter:\n",
    "            arr.append(it)\n",
    "    \n",
    "    s = r'2020-08-\\d{2}'\n",
    "    def filt(item):\n",
    "        m_str = item['date']\n",
    "        result = re.match(s, m_str)\n",
    "        return result != None\n",
    "        \n",
    "    res = list(filter(filt , arr))\n",
    "   \n",
    "    maxVaue=0\n",
    "    maxVaueDate=''\n",
    "    for item in res:\n",
    "        if value_name in item and item[value_name] > maxVaue:\n",
    "            maxVaue = item[value_name]\n",
    "            maxVaueDate = item['date']\n",
    "            \n",
    "    return maxVaueDate\n",
    "\n",
    "    \n",
    "    \n",
    "\n",
    "    \n",
    "day_with_max_value('new_cases')\n",
    "    "
   ]
  },
  {
   "cell_type": "code",
   "execution_count": null,
   "metadata": {},
   "outputs": [],
   "source": []
  },
  {
   "cell_type": "code",
   "execution_count": 100,
   "metadata": {},
   "outputs": [],
   "source": [
    "import json\n",
    "import math\n",
    "\n",
    "def corr(data_x, data_y):\n",
    "    sx, sy, sxy, sx2, sy2, n = 0.0, 0.0, 0.0, 0.0, 0.0, 0\n",
    "    for x, y in zip(data_x, data_y):\n",
    "        sx += x\n",
    "        sx2 += x * x\n",
    "        sy += y\n",
    "        sy2 += y * y\n",
    "        sxy += x * y\n",
    "        n += 1\n",
    "    dd = math.sqrt((sx2 / n - (sx / n * sx / n)) * (sy2 / n - (sy / n * sy / n)))\n",
    "    if abs(dd) < 1e-5:\n",
    "        return None\n",
    "    return (sxy / n - sx / n * sy / n) / dd\n",
    "\n",
    "\n",
    "def correlation_cases_tests(country_code):\n",
    "    with open(\"covid.json\") as file:\n",
    "        arr = json.loads(file.read())\n",
    "        total_new_cases = []\n",
    "        total_new_test = []\n",
    "        for item in arr[country_code]['data']:\n",
    "            if item['date'].split('-')[1] == '08':\n",
    "                if 'new_cases' not in item:\n",
    "                    total_new_cases.append(0)\n",
    "                    continue\n",
    "                total_new_cases.append(float(item['new_cases']))\n",
    "                total_new_test.append(item.get(\"new_tests\", 0))\n",
    "\n",
    "        return corr(total_new_cases, total_new_test)"
   ]
  },
  {
   "cell_type": "code",
   "execution_count": 101,
   "metadata": {},
   "outputs": [
    {
     "data": {
      "text/plain": [
       "0.5935340285658485"
      ]
     },
     "execution_count": 101,
     "metadata": {},
     "output_type": "execute_result"
    }
   ],
   "source": [
    "correlation_cases_tests('IND')"
   ]
  },
  {
   "cell_type": "code",
   "execution_count": 120,
   "metadata": {},
   "outputs": [
    {
     "data": {
      "text/plain": [
       "235.76391655560022"
      ]
     },
     "execution_count": 120,
     "metadata": {},
     "output_type": "execute_result"
    }
   ],
   "source": [
    "import json\n",
    "import math\n",
    "\n",
    "def calc_mean_sigma(data):\n",
    "    sx, sx2, n = 0.0, 0.0, 0\n",
    "    for x in data:\n",
    "        sx += x\n",
    "        sx2 += x*x\n",
    "        n += 1\n",
    "    return (sx / n, math.sqrt(max(sx2 / n - sx / n * sx / n, 0)))\n",
    "\n",
    "def sigma(country_code, value_name):\n",
    "    with open(\"covid.json\") as file:\n",
    "        arr = json.loads(file.read())\n",
    "        data = []\n",
    "        for item in arr[country_code]['data']:\n",
    "            if item['date'].split('-')[1] == '08':\n",
    "                if item[value_name]:\n",
    "                    data.append(item[value_name])       \n",
    "        return calc_mean_sigma(data)[1]\n",
    "\n",
    "                \n",
    "    \n",
    "    \n",
    "    \n",
    "    \n",
    "sigma('GBR', 'new_cases')"
   ]
  },
  {
   "cell_type": "code",
   "execution_count": null,
   "outputs": [],
   "source": [],
   "metadata": {
    "collapsed": false,
    "pycharm": {
     "name": "#%%\n"
    }
   }
  },
  {
   "cell_type": "code",
   "execution_count": null,
   "metadata": {},
   "outputs": [],
   "source": []
  }
 ],
 "metadata": {
  "kernelspec": {
   "display_name": "Python 3",
   "language": "python",
   "name": "python3"
  },
  "language_info": {
   "codemirror_mode": {
    "name": "ipython",
    "version": 3
   },
   "file_extension": ".py",
   "mimetype": "text/x-python",
   "name": "python",
   "nbconvert_exporter": "python",
   "pygments_lexer": "ipython3",
   "version": "3.7.0"
  }
 },
 "nbformat": 4,
 "nbformat_minor": 2
}